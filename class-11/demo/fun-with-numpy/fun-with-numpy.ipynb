{
 "metadata": {
  "kernelspec": {
   "language": "python",
   "display_name": "Python 3",
   "name": "python3"
  },
  "language_info": {
   "name": "python",
   "version": "3.7.12",
   "mimetype": "text/x-python",
   "codemirror_mode": {
    "name": "ipython",
    "version": 3
   },
   "pygments_lexer": "ipython3",
   "nbconvert_exporter": "python",
   "file_extension": ".py"
  }
 },
 "nbformat_minor": 4,
 "nbformat": 4,
 "cells": [
  {
   "cell_type": "markdown",
   "source": [
    "# Fun with Numpy\n",
    "\n",
    "## Jupyter Notebooks\n",
    "\n",
    "That's what we're in now. The \"Ju\" is for Julia, the \"py\" is Python and then \"r\" is for R.\n",
    "\n",
    "Notebooks are made up of cells. Each cell is either \"Code\" or \"Markdown\"\n",
    "\n",
    "## Kaggle\n",
    "\n",
    "That's where we are now. It's a fantastic resource for a huge amount of Data Science related activity.\n",
    "\n",
    "## Order of operations\n",
    "\n",
    "One thing worth noting about Notebooks is that the \"code cell\" number controls the order, which is NOT necessarily the same thing as the order top to bottom.\n",
    "\n",
    "When you \"run a cell\" with the \"play\" button or shift+enter then that cell (if it's code) becomes the highest numbered.\n",
    "\n",
    "If the cell numbers get jumbled up and you'd like them to be ordered top to bottom then click the \"Run All\" button.\n",
    "\n",
    "## Auto Installed Libraries\n",
    "\n",
    "As you'll see below there are libaries that Kaggle automatically makes available. Conveniently for us, that includes all the libraries we'll be using for labs."
   ],
   "metadata": {
    "pycharm": {
     "name": "#%% md\n"
    }
   }
  },
  {
   "cell_type": "code",
   "source": [
    "# This Python 3 environment comes with many helpful analytics libraries installed\n",
    "# It is defined by the kaggle/python Docker image: https://github.com/kaggle/docker-python\n",
    "# For example, here's several helpful packages to load\n",
    "\n",
    "import numpy as np # linear algebra\n",
    "import pandas as pd # data processing, CSV file I/O (e.g. pd.read_csv)\n",
    "\n",
    "# Input data files are available in the read-only \"../input/\" directory\n",
    "# For example, running this (by clicking run or pressing Shift+Enter) will list all files under the input directory\n",
    "\n",
    "import os\n",
    "for dirname, _, filenames in os.walk('/kaggle/input'):\n",
    "    for filename in filenames:\n",
    "        print(os.path.join(dirname, filename))\n",
    "\n",
    "# You can write up to 20GB to the current directory (/kaggle/working/) that gets preserved as output when you create a version using \"Save & Run All\"\n",
    "# You can also write temporary files to /kaggle/temp/, but they won't be saved outside of the current session"
   ],
   "metadata": {
    "_uuid": "8f2839f25d086af736a60e9eeb907d3b93b6e0e5",
    "_cell_guid": "b1076dfc-b9ad-4769-8c92-a6c4dae69d19",
    "execution": {
     "iopub.status.busy": "2022-08-01T06:06:55.418351Z",
     "iopub.execute_input": "2022-08-01T06:06:55.419204Z",
     "iopub.status.idle": "2022-08-01T06:06:55.451647Z",
     "shell.execute_reply.started": "2022-08-01T06:06:55.419059Z",
     "shell.execute_reply": "2022-08-01T06:06:55.450962Z"
    },
    "trusted": true,
    "pycharm": {
     "name": "#%%\n"
    }
   },
   "execution_count": 1,
   "outputs": []
  },
  {
   "cell_type": "markdown",
   "source": [
    "## Numpy import\n",
    "\n",
    "Notice that the numpy import is given an alias of \"np\" - this is a very strong naming convention.\n"
   ],
   "metadata": {
    "pycharm": {
     "name": "#%% md\n"
    }
   }
  },
  {
   "cell_type": "markdown",
   "source": [
    "## Creating Numpy Arrays\n",
    "\n",
    "Also known as `ndarrays` or `n dimensional arrays` because they can be multi-dimensional.\n",
    "\n",
    "### Lot of ways to create a numpy array"
   ],
   "metadata": {
    "pycharm": {
     "name": "#%% md\n"
    }
   }
  },
  {
   "cell_type": "code",
   "source": [
    "ndarray_from_python_list = np.array([4,6,8,10])\n",
    "ndarray_from_python_list"
   ],
   "metadata": {
    "execution": {
     "iopub.status.busy": "2022-08-01T06:06:55.454607Z",
     "iopub.execute_input": "2022-08-01T06:06:55.454928Z",
     "iopub.status.idle": "2022-08-01T06:06:55.465643Z",
     "shell.execute_reply.started": "2022-08-01T06:06:55.454888Z",
     "shell.execute_reply": "2022-08-01T06:06:55.464902Z"
    },
    "trusted": true,
    "pycharm": {
     "name": "#%%\n"
    }
   },
   "execution_count": 2,
   "outputs": []
  },
  {
   "cell_type": "markdown",
   "source": [
    "It could be a List of Lists, a List of List of Lists, etc."
   ],
   "metadata": {
    "pycharm": {
     "name": "#%% md\n"
    }
   }
  },
  {
   "cell_type": "code",
   "source": [
    "matrix = np.array([[1,2,3],[4,5,6],[7,8,9]])\n",
    "matrix"
   ],
   "metadata": {
    "execution": {
     "iopub.status.busy": "2022-08-01T06:06:55.467074Z",
     "iopub.execute_input": "2022-08-01T06:06:55.467472Z",
     "iopub.status.idle": "2022-08-01T06:06:55.478524Z",
     "shell.execute_reply.started": "2022-08-01T06:06:55.467432Z",
     "shell.execute_reply": "2022-08-01T06:06:55.477930Z"
    },
    "trusted": true,
    "pycharm": {
     "name": "#%%\n"
    }
   },
   "execution_count": 3,
   "outputs": []
  },
  {
   "cell_type": "markdown",
   "source": [
    "A couple handy methods are np.ones and np.zeros"
   ],
   "metadata": {
    "pycharm": {
     "name": "#%% md\n"
    }
   }
  },
  {
   "cell_type": "code",
   "source": [
    "ones = np.ones(1)\n",
    "ones\n",
    "\n",
    "several_ones = np.ones(8)\n",
    "several_ones"
   ],
   "metadata": {
    "execution": {
     "iopub.status.busy": "2022-08-01T06:06:55.480445Z",
     "iopub.execute_input": "2022-08-01T06:06:55.480918Z",
     "iopub.status.idle": "2022-08-01T06:06:55.489699Z",
     "shell.execute_reply.started": "2022-08-01T06:06:55.480823Z",
     "shell.execute_reply": "2022-08-01T06:06:55.488925Z"
    },
    "trusted": true,
    "pycharm": {
     "name": "#%%\n"
    }
   },
   "execution_count": 4,
   "outputs": []
  },
  {
   "cell_type": "code",
   "source": [
    "matrix_of_zeroes = np.zeros((8,8))\n",
    "matrix_of_zeroes"
   ],
   "metadata": {
    "execution": {
     "iopub.status.busy": "2022-08-01T06:06:55.491218Z",
     "iopub.execute_input": "2022-08-01T06:06:55.491670Z",
     "iopub.status.idle": "2022-08-01T06:06:55.502677Z",
     "shell.execute_reply.started": "2022-08-01T06:06:55.491628Z",
     "shell.execute_reply": "2022-08-01T06:06:55.501933Z"
    },
    "trusted": true,
    "pycharm": {
     "name": "#%%\n"
    }
   },
   "execution_count": 5,
   "outputs": []
  },
  {
   "cell_type": "markdown",
   "source": [
    "### Tensor\n",
    "\n",
    "A 3D (or greater) array is called a Tensor"
   ],
   "metadata": {
    "pycharm": {
     "name": "#%% md\n"
    }
   }
  },
  {
   "cell_type": "code",
   "source": [
    "tensor = np.full((2,4,3), 5)\n",
    "tensor"
   ],
   "metadata": {
    "execution": {
     "iopub.status.busy": "2022-08-01T06:06:55.504226Z",
     "iopub.execute_input": "2022-08-01T06:06:55.504864Z",
     "iopub.status.idle": "2022-08-01T06:06:55.513491Z",
     "shell.execute_reply.started": "2022-08-01T06:06:55.504820Z",
     "shell.execute_reply": "2022-08-01T06:06:55.512908Z"
    },
    "trusted": true,
    "pycharm": {
     "name": "#%%\n"
    }
   },
   "execution_count": 6,
   "outputs": []
  },
  {
   "cell_type": "markdown",
   "source": [
    "### Image Data\n",
    "\n",
    "It turns out that Image Data can be represented nicely in a 3D array where the shape is\n",
    "rows x columns x channels where channels is 3 floating point numbers from 0-1 representing\n",
    "Red, Green and Blue values."
   ],
   "metadata": {
    "pycharm": {
     "name": "#%% md\n"
    }
   }
  },
  {
   "cell_type": "code",
   "source": [
    "pixels = np.random.rand(10,10,3)"
   ],
   "metadata": {
    "execution": {
     "iopub.status.busy": "2022-08-01T06:06:55.514950Z",
     "iopub.execute_input": "2022-08-01T06:06:55.515509Z",
     "iopub.status.idle": "2022-08-01T06:06:55.524425Z",
     "shell.execute_reply.started": "2022-08-01T06:06:55.515455Z",
     "shell.execute_reply": "2022-08-01T06:06:55.523881Z"
    },
    "trusted": true,
    "pycharm": {
     "name": "#%%\n"
    }
   },
   "execution_count": 7,
   "outputs": []
  },
  {
   "cell_type": "code",
   "source": [
    "import matplotlib.pyplot as plt\n",
    "plt.imshow(pixels)"
   ],
   "metadata": {
    "execution": {
     "iopub.status.busy": "2022-08-01T06:06:55.525913Z",
     "iopub.execute_input": "2022-08-01T06:06:55.526455Z",
     "iopub.status.idle": "2022-08-01T06:06:55.755726Z",
     "shell.execute_reply.started": "2022-08-01T06:06:55.526412Z",
     "shell.execute_reply": "2022-08-01T06:06:55.754880Z"
    },
    "trusted": true,
    "pycharm": {
     "name": "#%%\n"
    }
   },
   "execution_count": 8,
   "outputs": []
  },
  {
   "cell_type": "code",
   "source": [
    "green = (.2,.9,.2)\n",
    "purple = (.9,.2,.9)\n",
    "yellow = (.9,.9,.2)\n",
    "\n",
    "checkered = np.full((5,5,3), green)\n",
    "checkered[::2,1::2] = purple\n",
    "checkered[1::2,::2] = purple\n",
    "\n",
    "checkered[0][2] = yellow\n",
    "plt.imshow(checkered)"
   ],
   "metadata": {
    "execution": {
     "iopub.status.busy": "2022-08-01T06:06:55.757633Z",
     "iopub.execute_input": "2022-08-01T06:06:55.758243Z",
     "iopub.status.idle": "2022-08-01T06:06:56.075594Z",
     "shell.execute_reply.started": "2022-08-01T06:06:55.758194Z",
     "shell.execute_reply": "2022-08-01T06:06:56.074806Z"
    },
    "trusted": true,
    "pycharm": {
     "name": "#%%\n"
    }
   },
   "execution_count": 9,
   "outputs": []
  },
  {
   "cell_type": "code",
   "source": [
    "# loopy way\n",
    "# there are advanced ways to do this,\n",
    "# but let's stick with loops for now\n",
    "for row, col_data in enumerate(checkered):\n",
    "    for col, channel_data in enumerate(col_data):\n",
    "#         print(row, col, channel_data)\n",
    "        if np.array_equal(channel_data, yellow):\n",
    "            print(row, col)"
   ],
   "metadata": {
    "execution": {
     "iopub.status.busy": "2022-08-01T06:06:56.077947Z",
     "iopub.execute_input": "2022-08-01T06:06:56.078179Z",
     "iopub.status.idle": "2022-08-01T06:06:56.084798Z",
     "shell.execute_reply.started": "2022-08-01T06:06:56.078148Z",
     "shell.execute_reply": "2022-08-01T06:06:56.083823Z"
    },
    "trusted": true,
    "pycharm": {
     "name": "#%%\n"
    }
   },
   "execution_count": 10,
   "outputs": []
  },
  {
   "cell_type": "markdown",
   "source": [
    "## Take a Peek at Lab and Identify Unknowns\n",
    "\n",
    "Anything in the lab look particularly unknown. There might be one thing; how to check for diagonals in a grid.\n",
    "Hint: the mathematical notion of `absolute value` is great at measuring distances between points. I wonder if Python has such [powers](https://careerkarma.com/blog/python-absolute-value/)...\n"
   ],
   "metadata": {
    "execution": {
     "iopub.status.busy": "2022-05-02T14:33:52.595626Z",
     "iopub.execute_input": "2022-05-02T14:33:52.596056Z",
     "iopub.status.idle": "2022-05-02T14:33:52.601772Z",
     "shell.execute_reply.started": "2022-05-02T14:33:52.596016Z",
     "shell.execute_reply": "2022-05-02T14:33:52.600781Z"
    },
    "pycharm": {
     "name": "#%% md\n"
    }
   }
  }
 ]
}